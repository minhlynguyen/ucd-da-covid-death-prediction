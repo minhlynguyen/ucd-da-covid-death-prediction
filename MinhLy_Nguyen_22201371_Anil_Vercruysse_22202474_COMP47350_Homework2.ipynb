{
 "cells": [
  {
   "cell_type": "markdown",
   "id": "17a9cbc3",
   "metadata": {},
   "source": [
    "# Intro\n",
    "\n",
    "The goal in this note is to work with the data of COVID-19 cases to build and evaluate prediction models that capture the relationship between the descriptive features and the target feature death_yn.\n",
    "\n",
    "The data has been cleaned from the original data provided by the Centers for Disease Control and Prevention (CDC: https://covid.cdc.gov/covid-data-tracker/) following the process below: \n",
    "\n",
    "|Variable Names|Data Quality Issue|Handling Strategy|Justification\n",
    "|-|-|-|-\n",
    "|case_month|No issue|-|-\n",
    "|case_positive_specimen_interval|47% Missing|Leave as is|Too many are missing, but both imputation or dropping can affect the prediction\n",
    "|case_positive_specimen_interval|Outliers|Leave as is|Most values are concentrated around zero, making all values that are different from 0 become ‘outliers’. This extraordinarily high frequency of 0 in a feature should be investigated, as the cause might be a serious error in data integration or manual entry.\n",
    "|case_positive_specimen_interval|Negative value|Leave as is|Negative CPSI can mean that a case is tested positive BEFORE being reported to CDC (week of earliest date = week of earliest received date by CDC > week of first positive specimen collection date). This can have relations with target feature (late reporting can affect death outcome)\n",
    "|case_onset_interval|57% Missing|Leave as is|Too many are missing, both imputation or dropping can affect the prediction\n",
    "|case_onset_interval|Outliers|Leave as is|Most values are concentrated around zero, making all values that are different from 0 become ‘outliers’. This extraordinarily high frequency of 0 in a feature should be investigated, as the cause might be a serious error in data integration or manual entry.\n",
    "|case_onset_interval|Negative value|Leave as is|Negative can mean that a case has first symptom onset before being clinically observed or before being reported to CDC (week of date of first symptom onset < week of earliest received date by CDC/first week of clinical date). This can have relations with target feature (late reporting can affect death outcome).\n",
    "|res_state|0.0025% Missing|Imputed as 'Missing'|Match with CDC encoding when data is not provided\n",
    "|state_fips_code|0.0025% Missing|Imputed as 'Missing'|Match with CDC encoding when data is not provided\n",
    "|res_county\t37583|6.0425% Missing|Imputed as 'Missing'|Match with CDC encoding when data is not provided\n",
    "|county_fips_code|6.0425% Missing|Imputed as 'Missing'|Match with CDC encoding when data is not provided\n",
    "|age_group|0.6400% Missing|Imputed as 'Missing'|Match with CDC encoding when data is not provided\n",
    "|sex|1.9700% Missing|Imputed as 'Missing'|Match with CDC encoding when data is not provided\n",
    "|race|11.6625% Missing|Imputed as 'Missing'|Match with CDC encoding when data is not provided\n",
    "|ethnicity|12.6775% Missing|Imputed as 'Missing'|Match with CDC encoding when data is not provided\n",
    "|process|No issue|Leave as is|CDC encodes non-provided data to 'Missing', not that the actual dataset is missing\n",
    "|exposure_yn|No issue|Leave as is|CDC encode non-provided data to 'Missing', not that the actual dataset is missing\n",
    "|current_status|No issue|Leave as is|-|\n",
    "|symptom_status|No issue|Leave as is|CDC encode non-provided data to 'Missing', not that the actual dataset is missing.\n",
    "|hosp_yn|No issue|Leave as is|CDC encode non-provided data to 'Missing', not that the actual dataset is missing\n",
    "|icu_yn|No issue|Leave as is|CDC encode non-provided data to 'Missing', not that the actual dataset is missing \n",
    "|death_yn|No issue|Leave as is|-|\n",
    "|underlying_conditions_yn|91.3225% Missing|Drop features|Too many are missing\n"
   ]
  },
  {
   "cell_type": "code",
   "execution_count": 4,
   "id": "c23130ff",
   "metadata": {},
   "outputs": [],
   "source": [
    "import pandas as pd\n",
    "import numpy as np\n",
    "import matplotlib.pyplot as plt\n",
    "import seaborn as sns\n",
    "from sklearn.model_selection import train_test_split"
   ]
  },
  {
   "cell_type": "code",
   "execution_count": 8,
   "id": "a2aa169d",
   "metadata": {},
   "outputs": [
    {
     "data": {
      "text/plain": [
       "(40000, 18)"
      ]
     },
     "execution_count": 8,
     "metadata": {},
     "output_type": "execute_result"
    }
   ],
   "source": [
    "#Load the dataset\n",
    "df = pd.read_csv(\"./covid19-cdc-cleaned-22201371-22202474-utf8.csv\", low_memory=False)\n",
    "df.shape"
   ]
  },
  {
   "cell_type": "code",
   "execution_count": 9,
   "id": "d0a528de",
   "metadata": {},
   "outputs": [
    {
     "data": {
      "text/html": [
       "<div>\n",
       "<style scoped>\n",
       "    .dataframe tbody tr th:only-of-type {\n",
       "        vertical-align: middle;\n",
       "    }\n",
       "\n",
       "    .dataframe tbody tr th {\n",
       "        vertical-align: top;\n",
       "    }\n",
       "\n",
       "    .dataframe thead th {\n",
       "        text-align: right;\n",
       "    }\n",
       "</style>\n",
       "<table border=\"1\" class=\"dataframe\">\n",
       "  <thead>\n",
       "    <tr style=\"text-align: right;\">\n",
       "      <th></th>\n",
       "      <th>case_month</th>\n",
       "      <th>res_state</th>\n",
       "      <th>state_fips_code</th>\n",
       "      <th>res_county</th>\n",
       "      <th>county_fips_code</th>\n",
       "      <th>age_group</th>\n",
       "      <th>sex</th>\n",
       "      <th>race</th>\n",
       "      <th>ethnicity</th>\n",
       "      <th>case_positive_specimen_interval</th>\n",
       "      <th>case_onset_interval</th>\n",
       "      <th>process</th>\n",
       "      <th>exposure_yn</th>\n",
       "      <th>current_status</th>\n",
       "      <th>symptom_status</th>\n",
       "      <th>hosp_yn</th>\n",
       "      <th>icu_yn</th>\n",
       "      <th>death_yn</th>\n",
       "    </tr>\n",
       "  </thead>\n",
       "  <tbody>\n",
       "    <tr>\n",
       "      <th>0</th>\n",
       "      <td>2020-06-01</td>\n",
       "      <td>FL</td>\n",
       "      <td>12.0</td>\n",
       "      <td>PALM BEACH</td>\n",
       "      <td>12099.0</td>\n",
       "      <td>65+ years</td>\n",
       "      <td>Female</td>\n",
       "      <td>Black</td>\n",
       "      <td>Non-Hispanic/Latino</td>\n",
       "      <td>NaN</td>\n",
       "      <td>0.0</td>\n",
       "      <td>Missing</td>\n",
       "      <td>Missing</td>\n",
       "      <td>Laboratory-confirmed case</td>\n",
       "      <td>Symptomatic</td>\n",
       "      <td>Yes</td>\n",
       "      <td>Missing</td>\n",
       "      <td>Yes</td>\n",
       "    </tr>\n",
       "    <tr>\n",
       "      <th>1</th>\n",
       "      <td>2020-12-01</td>\n",
       "      <td>CA</td>\n",
       "      <td>6.0</td>\n",
       "      <td>SANTA CLARA</td>\n",
       "      <td>6085.0</td>\n",
       "      <td>65+ years</td>\n",
       "      <td>Male</td>\n",
       "      <td>Missing</td>\n",
       "      <td>Missing</td>\n",
       "      <td>NaN</td>\n",
       "      <td>NaN</td>\n",
       "      <td>Missing</td>\n",
       "      <td>Missing</td>\n",
       "      <td>Laboratory-confirmed case</td>\n",
       "      <td>Symptomatic</td>\n",
       "      <td>Yes</td>\n",
       "      <td>Unknown</td>\n",
       "      <td>Yes</td>\n",
       "    </tr>\n",
       "    <tr>\n",
       "      <th>2</th>\n",
       "      <td>2020-11-01</td>\n",
       "      <td>TX</td>\n",
       "      <td>48.0</td>\n",
       "      <td>EL PASO</td>\n",
       "      <td>48141.0</td>\n",
       "      <td>65+ years</td>\n",
       "      <td>Male</td>\n",
       "      <td>White</td>\n",
       "      <td>Hispanic/Latino</td>\n",
       "      <td>NaN</td>\n",
       "      <td>NaN</td>\n",
       "      <td>Missing</td>\n",
       "      <td>Missing</td>\n",
       "      <td>Laboratory-confirmed case</td>\n",
       "      <td>Missing</td>\n",
       "      <td>Missing</td>\n",
       "      <td>Missing</td>\n",
       "      <td>Yes</td>\n",
       "    </tr>\n",
       "    <tr>\n",
       "      <th>3</th>\n",
       "      <td>2020-12-01</td>\n",
       "      <td>MN</td>\n",
       "      <td>27.0</td>\n",
       "      <td>CROW WING</td>\n",
       "      <td>27035.0</td>\n",
       "      <td>65+ years</td>\n",
       "      <td>Female</td>\n",
       "      <td>White</td>\n",
       "      <td>Non-Hispanic/Latino</td>\n",
       "      <td>0.0</td>\n",
       "      <td>0.0</td>\n",
       "      <td>Missing</td>\n",
       "      <td>Missing</td>\n",
       "      <td>Laboratory-confirmed case</td>\n",
       "      <td>Symptomatic</td>\n",
       "      <td>Yes</td>\n",
       "      <td>Yes</td>\n",
       "      <td>Yes</td>\n",
       "    </tr>\n",
       "    <tr>\n",
       "      <th>4</th>\n",
       "      <td>2022-01-01</td>\n",
       "      <td>NJ</td>\n",
       "      <td>34.0</td>\n",
       "      <td>CAMDEN</td>\n",
       "      <td>34007.0</td>\n",
       "      <td>65+ years</td>\n",
       "      <td>Male</td>\n",
       "      <td>White</td>\n",
       "      <td>Non-Hispanic/Latino</td>\n",
       "      <td>0.0</td>\n",
       "      <td>0.0</td>\n",
       "      <td>Missing</td>\n",
       "      <td>Missing</td>\n",
       "      <td>Probable Case</td>\n",
       "      <td>Symptomatic</td>\n",
       "      <td>Yes</td>\n",
       "      <td>Missing</td>\n",
       "      <td>Yes</td>\n",
       "    </tr>\n",
       "  </tbody>\n",
       "</table>\n",
       "</div>"
      ],
      "text/plain": [
       "   case_month res_state state_fips_code   res_county county_fips_code  \\\n",
       "0  2020-06-01        FL            12.0   PALM BEACH          12099.0   \n",
       "1  2020-12-01        CA             6.0  SANTA CLARA           6085.0   \n",
       "2  2020-11-01        TX            48.0      EL PASO          48141.0   \n",
       "3  2020-12-01        MN            27.0    CROW WING          27035.0   \n",
       "4  2022-01-01        NJ            34.0       CAMDEN          34007.0   \n",
       "\n",
       "   age_group     sex     race            ethnicity  \\\n",
       "0  65+ years  Female    Black  Non-Hispanic/Latino   \n",
       "1  65+ years    Male  Missing              Missing   \n",
       "2  65+ years    Male    White      Hispanic/Latino   \n",
       "3  65+ years  Female    White  Non-Hispanic/Latino   \n",
       "4  65+ years    Male    White  Non-Hispanic/Latino   \n",
       "\n",
       "   case_positive_specimen_interval  case_onset_interval  process exposure_yn  \\\n",
       "0                              NaN                  0.0  Missing     Missing   \n",
       "1                              NaN                  NaN  Missing     Missing   \n",
       "2                              NaN                  NaN  Missing     Missing   \n",
       "3                              0.0                  0.0  Missing     Missing   \n",
       "4                              0.0                  0.0  Missing     Missing   \n",
       "\n",
       "              current_status symptom_status  hosp_yn   icu_yn death_yn  \n",
       "0  Laboratory-confirmed case    Symptomatic      Yes  Missing      Yes  \n",
       "1  Laboratory-confirmed case    Symptomatic      Yes  Unknown      Yes  \n",
       "2  Laboratory-confirmed case        Missing  Missing  Missing      Yes  \n",
       "3  Laboratory-confirmed case    Symptomatic      Yes      Yes      Yes  \n",
       "4              Probable Case    Symptomatic      Yes  Missing      Yes  "
      ]
     },
     "execution_count": 9,
     "metadata": {},
     "output_type": "execute_result"
    }
   ],
   "source": [
    "df.head()"
   ]
  },
  {
   "cell_type": "markdown",
   "id": "7328d299",
   "metadata": {},
   "source": [
    "# 1. [25] **Data Understanding and Preparation:** \n",
    "\n",
    "Exploring relationships between feature pairs and selecting/transforming promising features based on a given training set"
   ]
  },
  {
   "cell_type": "code",
   "execution_count": 10,
   "id": "5fc15760",
   "metadata": {},
   "outputs": [],
   "source": [
    "#Split the dataset into training and testing sets:\n",
    "train_df, test_df = train_test_split(df, test_size=0.3, random_state=42)"
   ]
  },
  {
   "cell_type": "markdown",
   "id": "e1fa2262",
   "metadata": {},
   "source": [
    "## 1.1 Training set (70%): correlations between continuous features "
   ]
  },
  {
   "cell_type": "code",
   "execution_count": 15,
   "id": "97a9c100",
   "metadata": {},
   "outputs": [
    {
     "data": {
      "text/html": [
       "<div>\n",
       "<style scoped>\n",
       "    .dataframe tbody tr th:only-of-type {\n",
       "        vertical-align: middle;\n",
       "    }\n",
       "\n",
       "    .dataframe tbody tr th {\n",
       "        vertical-align: top;\n",
       "    }\n",
       "\n",
       "    .dataframe thead th {\n",
       "        text-align: right;\n",
       "    }\n",
       "</style>\n",
       "<table border=\"1\" class=\"dataframe\">\n",
       "  <thead>\n",
       "    <tr style=\"text-align: right;\">\n",
       "      <th></th>\n",
       "      <th>case_positive_specimen_interval</th>\n",
       "      <th>case_onset_interval</th>\n",
       "    </tr>\n",
       "  </thead>\n",
       "  <tbody>\n",
       "    <tr>\n",
       "      <th>0</th>\n",
       "      <td>NaN</td>\n",
       "      <td>0.0</td>\n",
       "    </tr>\n",
       "    <tr>\n",
       "      <th>1</th>\n",
       "      <td>NaN</td>\n",
       "      <td>NaN</td>\n",
       "    </tr>\n",
       "    <tr>\n",
       "      <th>2</th>\n",
       "      <td>NaN</td>\n",
       "      <td>NaN</td>\n",
       "    </tr>\n",
       "    <tr>\n",
       "      <th>3</th>\n",
       "      <td>0.0</td>\n",
       "      <td>0.0</td>\n",
       "    </tr>\n",
       "    <tr>\n",
       "      <th>4</th>\n",
       "      <td>0.0</td>\n",
       "      <td>0.0</td>\n",
       "    </tr>\n",
       "  </tbody>\n",
       "</table>\n",
       "</div>"
      ],
      "text/plain": [
       "   case_positive_specimen_interval  case_onset_interval\n",
       "0                              NaN                  0.0\n",
       "1                              NaN                  NaN\n",
       "2                              NaN                  NaN\n",
       "3                              0.0                  0.0\n",
       "4                              0.0                  0.0"
      ]
     },
     "execution_count": 15,
     "metadata": {},
     "output_type": "execute_result"
    }
   ],
   "source": [
    "continuous_features = train_df.select_dtypes(['float']).columns\n",
    "df[continuous_features].head()"
   ]
  },
  {
   "cell_type": "code",
   "execution_count": 17,
   "id": "db39d0af",
   "metadata": {},
   "outputs": [
    {
     "data": {
      "image/png": "[encoded data removed]",
      "text/plain": [
       "<Figure size 640x480 with 2 Axes>"
      ]
     },
     "metadata": {},
     "output_type": "display_data"
    }
   ],
   "source": [
    "# Calculate correlations\n",
    "corr_matrix = train_df[continuous_features].corr()\n",
    "# Plot heatmap\n",
    "sns.heatmap(corr_matrix, annot=True, cmap=\"coolwarm\")\n",
    "plt.show()"
   ]
  },
  {
   "cell_type": "markdown",
   "id": "ab8ce8e4",
   "metadata": {},
   "source": [
    "## ☞ Low correlation between 2 categorical features"
   ]
  },
  {
   "cell_type": "markdown",
   "id": "0bd7d4f1",
   "metadata": {},
   "source": [
    "## 1.2 Continuous features' interaction with the target feature \n",
    "\n",
    "(a plot for each pair of   continuous feature and target feature). Discuss what you observe from these plots, e.g., which continuous features seem to be better at predicting the target feature? Choose a subset of continuous features you find promising (if any). Justify your choices."
   ]
  },
  {
   "cell_type": "markdown",
   "id": "1e955d16",
   "metadata": {},
   "source": [
    "## 1.3 Categorical features' pairwise interaction with the target feature \n",
    "\n",
    "Discuss what  knowledge you gain from these plots, e.g., which categorical features seem to be better at predicting the target feature? Choose a subset of categorical features you find promising (if any). Justify your choices."
   ]
  },
  {
   "cell_type": "markdown",
   "id": "c907ac7d",
   "metadata": {},
   "source": [
    "# 2. [15] Predictive Modeling: Linear Regression.  \n",
    "\n",
    "## 2.1 On the training set, train a linear regression model to predict the target feature, using only the  descriptive features selected in exercise (1) above. q"
   ]
  },
  {
   "cell_type": "markdown",
   "id": "3eb1ba27",
   "metadata": {},
   "source": [
    "## 2.2 Print the coefficients learned by the model and discuss their role in the model \n",
    "\n",
    "(e.g., interpret the model by analysing each coefficient and how it relates each input feature to the target feature)"
   ]
  },
  {
   "cell_type": "markdown",
   "id": "01e85440",
   "metadata": {},
   "source": [
    "## 2.3 Print the predicted target feature value for the first 10 training examples. \n",
    "\n",
    "Threshold the predicted target feature value given by the linear regression model at 0.5, to get the predicted class for each example. Print the predicted class for the first 10 examples. Print a few classification evaluation measures computed on the full training set (e.g., Accuracy, Confusion matrix, Precision, Recall, F1) and discuss your findings so far."
   ]
  },
  {
   "cell_type": "markdown",
   "id": "103c2fab",
   "metadata": {},
   "source": [
    "## 2.4 Evaluate the model using classification evaluation measures on the hold-out (30% examples) test set. \n",
    "\n",
    "Compare these results with the evaluation results obtained on the training (70%) dataset. Also compare these results with a cross-validated model (i.e., a new model trained and evaluated using cross-validation on the full dataset). You can use classic k-fold cross-validation or repeated random train/test (70/30) splits. Compare the cross-validation metrics to those obtained on the single train/test split and discuss your findings."
   ]
  }
 ],
 "metadata": {
  "kernelspec": {
   "display_name": "Python 3 (ipykernel)",
   "language": "python",
   "name": "python3"
  },
  "language_info": {
   "codemirror_mode": {
    "name": "ipython",
    "version": 3
   },
   "file_extension": ".py",
   "mimetype": "text/x-python",
   "name": "python",
   "nbconvert_exporter": "python",
   "pygments_lexer": "ipython3",
   "version": "3.8.16"
  }
 },
 "nbformat": 4,
 "nbformat_minor": 5
}
